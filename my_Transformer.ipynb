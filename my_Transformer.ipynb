{
 "cells": [
  {
   "cell_type": "markdown",
   "metadata": {},
   "source": [
    "# 手撕Transformer\n",
    "1. 实现以下这些组件\n",
    "   1. Embedding\n",
    "   2. Positional Encoding\n",
    "   3. Positionwise Feed-Forward Network\n",
    "   4. Add & norm\n",
    "   5. (Masked) Multi-head attention\n",
    "2. 将这些组件拼起来\n",
    "   1. encoder\n",
    "   2. decoder\n",
    "   3. Bahdanau注意力机制\n",
    "3. 用小数据集验证一下"
   ]
  },
  {
   "cell_type": "code",
   "execution_count": null,
   "metadata": {},
   "outputs": [],
   "source": [
    "import torch\n",
    "from torch import nn\n",
    "import math\n"
   ]
  },
  {
   "cell_type": "markdown",
   "metadata": {},
   "source": [
    "## Embedding\n",
    "Pytorch提供了Empedding封装，主要的两个参数是num_embedding和embedding_dim。它们分别表示\n",
    "1. num_embedding：文本序列tokenlize之后，token的种类数。其中还包含一些特殊的token。\n",
    "2. embedding_dim：每一个token嵌入后，嵌入向量的维度。"
   ]
  },
  {
   "cell_type": "markdown",
   "metadata": {},
   "source": [
    "## Positional Encoding\n",
    "一个文本序列tokenlize和embedding之后得到一个表征矩阵$\\mathbf{X} \\in \\mathbb{R}^{n\\times d}$，为了使Transformer架构能够并行的处理文本序列，需要在文本序列中加入位置信息：$\\mathbf{X} + \\mathbf{P}$，位置信息应该能够满足如下要求：\n",
    "1. 文本中每一个词的位置编码是唯一的。\n",
    "2. 文本中的词两两之间的位置距离是固定的。\n",
    "3. 位置编码结果不受文本长度的影响。\n",
    "4. 位置编码是具有确定性的。\n",
    "当前普遍使用的位置编码是：\n",
    "$$\n",
    "\\begin{aligned}\n",
    "p_{i, 2 j} & =\\sin \\left(\\frac{i}{10000^{2 j / d}}\\right) \\\\\n",
    "p_{i, 2 j+1} & =\\cos \\left(\\frac{i}{10000^{2 j / d}}\\right)\n",
    "\\end{aligned}\n",
    "$$\n",
    "其中，$p_{i,2j}$和$p_{i, 2j+1}$分别为矩阵$\\mathbf{P} \\in \\mathbb{R}^{n\\times d}$中的元素。"
   ]
  },
  {
   "cell_type": "code",
   "execution_count": null,
   "metadata": {},
   "outputs": [],
   "source": [
    "class PositionalEncoding(nn.Module):\n",
    "    def __init__(self, hidden_size, dropout_p , seq_max_len = 1000):\n",
    "        super().__init__()\n",
    "        self.dropout = nn.Dropout(dropout_p)\n",
    "        self.posi_enc = torch.zeros((1, seq_max_len, hidden_size))\n",
    "        tmp = torch.arange(0, hidden_size, 1, dtype=torch.float32).reshape(-1, 1)\n",
    "        tmp2 = torch.pow(10000, torch.arange(0, hidden_size, 2, dtype=torch.float32)/hidden_size)\n",
    "        tmp3 = tmp / tmp2\n",
    "        self.posi_enc[:, :, 0::2] = torch.sin(tmp3)     # 能用pytorch中矩阵操作完成的，就不要自己写for循环\n",
    "        self.posi_enc[:, :, 1::2] = torch.cos(tmp3)\n",
    "    def forward(self, X):   # 注意！这里的X的形状和上面说的(n,d)不太一样，这里多了一个batch维度。\n",
    "        X = X + self.posi_enc[:, :X.shape[1], :].to(X.device)\n",
    "        return self.dropout(X)  # dropout防止过拟合\n"
   ]
  },
  {
   "cell_type": "markdown",
   "metadata": {},
   "source": [
    "## Positionwise FFN\n",
    "位置前馈神经网络用同一个MLP将文本序列中的每一个embedding转换到另一个维度。"
   ]
  },
  {
   "cell_type": "code",
   "execution_count": null,
   "metadata": {},
   "outputs": [],
   "source": [
    "class PositionwiseFFN(nn.Module):\n",
    "    def __init__(self, input_h_size, ffn_h_size, ffn_output_size):\n",
    "        super().__init__()\n",
    "        self.dense1 = nn.Linear(input_h_size, ffn_h_size)\n",
    "        self.relu = nn.ReLU()\n",
    "        self.dense2 = nn.Linear(ffn_h_size, ffn_output_size)\n",
    "\n",
    "    def forward(self, X):\n",
    "        return self.dense2(self.relu(self.dense1(X)))\n"
   ]
  },
  {
   "cell_type": "markdown",
   "metadata": {},
   "source": [
    "## （Masked）Multi-head Attention\n",
    "1. 注意力函数\n",
    "2. 自注意力\n",
    "3. Bahdanau注意力机制\n",
    "4. 多头注意力，包含Mask功能"
   ]
  },
  {
   "cell_type": "markdown",
   "metadata": {},
   "source": [
    "### 注意力函数——Scaled Dot Product Attention\n",
    "对于文本序列长度为$m$，有$n$个queries的情况，我们有queries矩阵$\\mathbf{Q} \\in \\mathbb{R}^{n\\times d}$、key矩阵$\\mathbf{K} \\in \\mathbb{R}^{m\\times d}$、value矩阵$\\mathbf{V} \\in \\mathbb{R}^{m\\times v}$，然后通过如下公式计算每个embedding的注意力输出\n",
    "$$\n",
    "\\rm{softmax}\\left(\\frac{\\mathbf{Q}\\mathbf{K}^\\top}{\\sqrt{d}}\\right)\\mathbf{V} \\in \\mathbb{R}^{n\\times v}\n",
    "$$"
   ]
  },
  {
   "cell_type": "code",
   "execution_count": null,
   "metadata": {},
   "outputs": [],
   "source": [
    "class DotProductAttention(nn.Module):\n",
    "    def __init__(self, dropout):\n",
    "        super().__init__()\n",
    "        self.dropout = nn.Dropout(dropout)\n",
    "    def musked_softmax(scores, valid_lens):\n",
    "        \"\"\"\n",
    "        score: [Batch_size, Num of quaries, Num of keys]\n",
    "        其中Num of keys这个维度是被查询文本的序列长度l，\n",
    "        valid_len在这个维度上指定有效长度\n",
    "        \"\"\"\n",
    "        def _seq_mask(scores, valid_lens, value=0):\n",
    "            max_seq_len = scores.size(1)    # num_of_keys\n",
    "            mask = torch.arange(max_seq_len,\n",
    "                                dtype=torch.float32, device=scores.device)[None, :] < valid_lens[:, None]\n",
    "            scores[~mask] = value\n",
    "            return scores\n",
    "        \n",
    "        if valid_lens is None:\n",
    "            return nn.functional.softmax(scores, dim=-1)\n",
    "        else:\n",
    "            qk_shape = scores.shape\n",
    "            if valid_lens.dim() == 1:\n",
    "                valid_lens = torch.repeat_interleave(valid_lens, qk_shape[1])\n",
    "            else:\n",
    "                valid_lens = valid_lens.reshape(-1)\n",
    "\n",
    "            scores = _seq_mask(scores.reshape(-1, qk_shape[-1]), valid_lens, value=1e-6)\n",
    "            return nn.functional.softmax(scores.reshape(qk_shape), dim=-1)\n",
    "\n",
    "    \n",
    "    def forward(self, queries, keys, values, valid_lens=None):\n",
    "        d = queries.shape[2]\n",
    "        alpha = torch.bmm(queries, keys.transpose(1,2)) / math.sqrt(d)\n",
    "        self.attention_weights = self.musked_softmax(alpha, valid_lens)\n",
    "        return torch.bmm(self.dropout(self.attention_weights), values)"
   ]
  },
  {
   "cell_type": "markdown",
   "metadata": {},
   "source": [
    "这里直接解释一下多头自注意力，不然读者在阅读的时候很容易搞不清楚$\\mathbf{q}$、$\\mathbf{k}$、$\\mathbf{v}$维度的含义以及为什么要再分别乘以一个权重矩阵。在Transformer中，使用的是多头自注意力，所谓的自注意力，就是$\\mathbf{q}$、$\\mathbf{k}$、$\\mathbf{v}$都来自于同一个文本序列中的各token的embedding后的向量通过权重矩阵转换得到；多头指转换的权重矩阵有多组。最后获得的多个头的输出连接在一起由输出权重矩阵$\\mathbf{W}_o$映射得到。于是有下列等式\n",
    "$$\n",
    "\\begin{align}\n",
    "\\mathbf{h}_{i}&=f\\left(\\mathbf{W}_{i}^{(q)} \\mathbf{q}, \\mathbf{W}_{i}^{(k)} \\mathbf{k}, \\mathbf{W}_{i}^{(v)} \\mathbf{v}\\right) \\in \\mathbb{R}^{p_{v}} \\\\\n",
    "\n",
    "output &= \\mathbf{W}_{o}\\left[\\begin{array}{c}\n",
    "\\mathbf{h}_{1} \\\\\n",
    "\\vdots \\\\\n",
    "\\mathbf{h}_{h}\n",
    "\\end{array}\\right] \\in \\mathbb{R}^{p_{o}}\n",
    "\\end{align}\n",
    "$$\n",
    "\n",
    "等式(1)中的$\\mathbf{q}$、$\\mathbf{k}$、$\\mathbf{v}$在自注意力中都是embedding vector。\n",
    "\n",
    "下面的实现方式参考了d2l，通过将映射之后的$\\mathbf{q}$、$\\mathbf{k}$、$\\mathbf{v}$的维度$p_q$、$p_k$、$p_v$设置成$p_q = p_k = p_v = p_o/h$，将多个头的qkv分别连在一起进行映射，使h个头能够并行的进行计算。下面的实现中num_hiddens就是$p_o$。"
   ]
  },
  {
   "cell_type": "code",
   "execution_count": null,
   "metadata": {},
   "outputs": [],
   "source": [
    "class MultiHeadAttention(nn.Module):\n",
    "    def __init__(self, attention_fun, num_hiddens, num_heads, bias=False, **kwargs):\n",
    "        super().__init__()\n",
    "        self.num_heads = num_heads\n",
    "        self.attention = attention_fun\n",
    "        self.W_q = nn.LazyLinear(num_hiddens, bias=bias)\n",
    "        self.W_k = nn.LazyLinear(num_hiddens, bias=bias)\n",
    "        self.W_v = nn.LazyLinear(num_hiddens, bias=bias)\n",
    "        self.W_o = nn.LazyLinear(num_hiddens, bias=bias)\n",
    "    \n",
    "    def reshape_qkv(self, X):\n",
    "        shape = X.shape\n",
    "        X = X.reshape(shape[0], shape[1], self.num_heads, -1)\n",
    "\n",
    "        # 将X转换为(batch_size, num_heads, q的数目或者k-v的数目——文本长度, p_q or p_k or p_v)\n",
    "        X = X.permute(0, 2, 1, 3)\n",
    "        return X.reshape(-1, shape[2], shape[3])    # return前的这一步相当于把所有的头连接在一起\n",
    "    \n",
    "    def reshape_attention_output(self, X):\n",
    "        X = X.reshape(-1, self.num_heads, X.shape[1], X.shape[2])\n",
    "        X = X.permute(0, 2, 1, 3)\n",
    "        return X.reshape(X.shape[0], X.shape[1], -1)    # (batch_size, q的数目, p_o)\n",
    "\n",
    "    def forward(self, quaries, keys, values, valid_lens):\n",
    "        \"\"\"\n",
    "        输入的qkv的形状是[batch_size, q的数目或者k-v的数目——文本长度, d_q或者d_k或d_v]\n",
    "        映射后的qkv的维度是p_q, p_k, p_v\n",
    "        \"\"\"\n",
    "        quaries = self.reshape_qkv(self.W_q(quaries))   # (batch_size * num_heads, q的数目, p_q)\n",
    "        keys = self.reshape_qkv(self.W_k(keys))\n",
    "        values = self.reshape_qkv(self.W_v(values))\n",
    "\n",
    "        if valid_lens is not None:\n",
    "            valid_lens = torch.repeat_interleave(valid_lens, repeats=self.num_heads, dim=0)\n",
    "            output = self.attention(quaries, keys, values, valid_lens)  # output.shape = (batch_size * num_heads, q的数目, p_o/h)\n",
    "            output_concat_heads = self.reshape_attention_output(output)\n",
    "            return self.W_o(output_concat_heads)\n",
    "            \n"
   ]
  },
  {
   "cell_type": "markdown",
   "metadata": {},
   "source": [
    "## Add & Norm\n",
    "Transformer中使用了Layer normalization，这是因为自注意力在每个sequence内部求的注意力，希望每个token对于sequence内的注意力之间满足均值为0、方差为1。"
   ]
  },
  {
   "cell_type": "code",
   "execution_count": null,
   "metadata": {},
   "outputs": [],
   "source": [
    "class AddNorm(nn.Module):\n",
    "    def __init__(self, embedding_dim, dropout):\n",
    "        super().__init__()\n",
    "        self.dropout = nn.Dropout(dropout)\n",
    "        self.layer_norm = nn.LayerNorm(embedding_dim)\n",
    "\n",
    "    def forward(self, X, Y):\n",
    "        return self.layer_norm(self.dropout(Y) + X)"
   ]
  },
  {
   "cell_type": "markdown",
   "metadata": {},
   "source": [
    "## Encoder\n",
    "现在将上面的模块拼起来，构建一个Transformer encoder。"
   ]
  },
  {
   "cell_type": "code",
   "execution_count": null,
   "metadata": {},
   "outputs": [],
   "source": [
    "class TransformerEncoderBlock(nn.Module):\n",
    "    def __init__(self, num_heads, num_hiddens, dropout, ffn_h_size, bias=False):\n",
    "        super().__init__()\n",
    "        attention_fun = DotProductAttention(dropout)\n",
    "        self.attention = MultiHeadAttention(attention_fun, num_hiddens, num_heads, bias)\n",
    "        self.positionwise_ffn = PositionwiseFFN(num_hiddens, ffn_h_size, num_hiddens)\n",
    "        self.add_norm1 = AddNorm(num_hiddens, dropout)\n",
    "        self.add_norm2 = AddNorm(num_hiddens, dropout)\n",
    "    \n",
    "    def forward(self, X, valid_len):\n",
    "        Y = self.add_norm1(X, self.attention(X, X, X, valid_len))\n",
    "        output = self.add_norm2(Y, self.positionwise_ffn(Y))\n",
    "        return output"
   ]
  },
  {
   "cell_type": "markdown",
   "metadata": {},
   "source": [
    "Encoder输入的sequence在embedding后乘以了一个$\\sqrt{\\rm{embedding\\_dim}}$，这样做是因为序列中的tokens的embedding vector中的值是被均值为0.0f，标准差为$\\frac{1}{\\sqrt{embedding\\_dim}}$（0.044 for 512, 0.03125 for 1024）。所以position embedding $\\in (-1, 1)$，会使word embedding中的信号值相对太小，因而要乘以$\\sqrt{\\rm{embedding\\_dim}}$（22.6 for 512, 32 for 1024）。"
   ]
  },
  {
   "cell_type": "code",
   "execution_count": null,
   "metadata": {},
   "outputs": [],
   "source": [
    "class TransformerEncoder(nn.Module):\n",
    "    def __init__(self, num_heads, num_hiddens, dropout, ffn_h_size,\n",
    "                 num_blks, vocab_size, pad_idx=None, bias=False):\n",
    "        super().__init__\n",
    "        self.num_hiddens = num_hiddens\n",
    "        self.num_heads = num_heads\n",
    "        self.embedding = nn.Embedding(vocab_size, num_hiddens, padding_idx=pad_idx)\n",
    "        self.position_ecd = PositionalEncoding(num_hiddens, dropout)\n",
    "        self.blks = nn.Sequential()\n",
    "        for i in range(num_blks):\n",
    "            self.blks.add_module('blok'+str(i), \n",
    "                                 TransformerEncoderBlock(num_heads, num_hiddens, \n",
    "                                                         dropout, ffn_h_size, bias))\n",
    "            \n",
    "    def forward(self, X, valid_lens):\n",
    "        X = self.position_ecd(self.embedding(X) * math.sqrt(self.num_hiddens))\n",
    "        self.attention_weights = []\n",
    "        for i, blk in enumerate(self.blks):\n",
    "            X = blk(X, valid_lens)\n",
    "            self.attention_weights.append(blk.attention.attention.attention_weights)\n",
    "        return X\n"
   ]
  },
  {
   "cell_type": "markdown",
   "metadata": {},
   "source": [
    "## Decoder\n",
    "Transformer的Decoder中的第1个注意力层使用了mask操作，为了使训练的时候target中的当前词只看得到前面的文本序列。第一个注意力层使的qkv均来自上一层decoder的输出。"
   ]
  },
  {
   "cell_type": "code",
   "execution_count": null,
   "metadata": {},
   "outputs": [],
   "source": [
    "class TransformerDecoderBlock(nn.Module):\n",
    "    def __init__(self, num_heads, num_hiddens,\n",
    "                 ffn_h_size, dropout, i, bias=False):\n",
    "        super().__init__()\n",
    "        self.i = i\n",
    "        self.num_heads = num_heads\n",
    "        self.num_hiddens = num_hiddens\n",
    "        attention_fun = DotProductAttention(dropout)\n",
    "        self.attention1 = MultiHeadAttention(attention_fun, num_hiddens, num_heads, bias)\n",
    "        self.add_norm1 = AddNorm(num_hiddens, dropout)\n",
    "        self.attention2 = MultiHeadAttention(attention_fun, num_hiddens, num_heads, bias)\n",
    "        self.add_norm2 = AddNorm(num_hiddens, dropout)\n",
    "        self.positionwise_ffn = PositionwiseFFN(num_hiddens, ffn_h_size, num_hiddens)\n",
    "        self.add_norm3 = AddNorm(num_hiddens, dropout)\n",
    "    \n",
    "    def forward(self, X, context_time_step, enc_output, enc_valid_len):\n",
    "        \"\"\"\n",
    "        X.shape: [batch_size, seq_len_after_padding, embedding_size]\n",
    "        \"\"\"\n",
    "        if context_time_step[self.i] is None:\n",
    "            keys = X\n",
    "            values = X\n",
    "        else:\n",
    "            keys = torch.cat((context_time_step[self.i], X), dim=1)\n",
    "            values = torch.cat((context_time_step[self.i], X), dim=1)\n",
    "        context_time_step = torch.cat((context_time_step[self.i], X), dim=1)\n",
    "\n",
    "        if self.training:\n",
    "            batch_size = X.shape[0]\n",
    "            seq_len_after_padding = X.shape[1]\n",
    "            dec_valid_len = torch.arange(1, seq_len_after_padding + 1,\n",
    "                                         device=X.device).repeat(batch_size, 1)\n",
    "        else:\n",
    "            dec_valid_len = None\n",
    "        \n",
    "        X2 = self.attention1(X, keys, values, dec_valid_len)\n",
    "        output_of_add_norm1 = self.add_norm1(X, X2)\n",
    "        output_of_attention2 = self.attention2(output_of_add_norm1, \n",
    "                                               enc_output, enc_output, enc_valid_len)\n",
    "        output_of_add_norm2 = self.add_norm2(output_of_add_norm1,\n",
    "                                             output_of_attention2)\n",
    "        output_of_ffn = self.positionwise_ffn(output_of_add_norm2)\n",
    "        output = self.add_norm3(output_of_add_norm2, output_of_ffn)\n",
    "\n",
    "        return output, context_time_step"
   ]
  },
  {
   "cell_type": "code",
   "execution_count": null,
   "metadata": {},
   "outputs": [],
   "source": [
    "class TransformerDecoder(nn.Module):\n",
    "    def __init__(self, num_heads, num_hiddens,\n",
    "                 ffn_h_size, dropout, num_blks,\n",
    "                 vocab_size, pad_idx=None, bias=False):\n",
    "        super().__init__()\n",
    "        self.num_hiddens = num_hiddens\n",
    "        self.num_blks = num_blks\n",
    "        self.embedding = nn.Embedding(vocab_size, num_hiddens, padding_idx=pad_idx)\n",
    "        self.pos_encoding = PositionalEncoding(num_hiddens, dropout)\n",
    "        self.blks = nn.Sequential()\n",
    "        for i in range(num_blks):\n",
    "            self.blks.add_module(\"block\"+str(i), TransformerDecoderBlock(\n",
    "                num_hiddens, ffn_h_size, num_heads, dropout, i))\n",
    "        self.dense = nn.LazyLinear(vocab_size)\n",
    "\n",
    "        def forward(self, X, context_time_step, enc_output, enc_vilid_len):\n",
    "            input_to_dec = self.pos_encoding(self.embedding(X) * math.sqrt(self.num_hiddens))\n",
    "            for _, blk in enumerate(self.blks):\n",
    "                X, context_time_step = blk(X, context_time_step, enc_output, enc_vilid_len)\n",
    "\n",
    "            return self.dense(X)\n"
   ]
  },
  {
   "cell_type": "markdown",
   "metadata": {},
   "source": [
    "## 构建Transformer\n",
    "用上面模块拼成一个Transformer。"
   ]
  },
  {
   "cell_type": "code",
   "execution_count": null,
   "metadata": {},
   "outputs": [],
   "source": [
    "class MyTransformer(nn.Module):\n",
    "    def __init__(self, num_heads, num_hiddens,\n",
    "                 ffn_h_size, dropout, num_blks_enc, num_blk_dec,\n",
    "                 vocab_size_src, vocab_size_tar,\n",
    "                 pad_idx=None, bias=False):\n",
    "        super().__init__\n",
    "        self.pad_idx = pad_idx\n",
    "        self.encoder = TransformerEncoder(num_heads, num_hiddens, dropout, ffn_h_size,\n",
    "                                          num_blks_enc, vocab_size_src, pad_idx, bias)\n",
    "        self.decoder = TransformerDecoder(num_heads, num_hiddens, ffn_h_size, dropout,\n",
    "                                          num_blk_dec, vocab_size_tar, pad_idx, bias)\n",
    "        self.output_layer = nn.Linear(num_hiddens, vocab_size_tar)\n",
    "        \n",
    "        def forward(self, srcX, tarX, enc_valid_len, contex_time_step):\n",
    "            enc_output = self.encoder(srcX, enc_valid_len)\n",
    "            dec_output = self.decoder(tarX, enc_output, contex_time_step)\n",
    "            output = self.output_layer(dec_output)\n",
    "\n",
    "            return output\n",
    "        "
   ]
  },
  {
   "cell_type": "markdown",
   "metadata": {},
   "source": [
    "## 训练\n",
    "这里我们使用训练集是[链接](https://zhuanlan.zhihu.com/p/581334630)中介绍的来自[链接](https://github.com/P3n9W31/transformer-pytorch)的小数据集，只有几KB大小，词表量10000左右。"
   ]
  },
  {
   "cell_type": "code",
   "execution_count": 4,
   "metadata": {},
   "outputs": [
    {
     "ename": "SystemExit",
     "evalue": "",
     "output_type": "error",
     "traceback": [
      "An exception has occurred, use %tb to see the full traceback.\n",
      "\u001b[0;31mSystemExit\u001b[0m\n"
     ]
    },
    {
     "name": "stderr",
     "output_type": "stream",
     "text": [
      "/home/users/chuanwei.tang/miniconda3/envs/d2l/lib/python3.9/site-packages/IPython/core/interactiveshell.py:3516: UserWarning: To exit: use 'exit', 'quit', or Ctrl-D.\n",
      "  warn(\"To exit: use 'exit', 'quit', or Ctrl-D.\", stacklevel=1)\n"
     ]
    }
   ],
   "source": [
    "# Config\n",
    "BATCH_SIZE = 64\n",
    "LR = 0.001\n",
    "NUM_HIDDENS = 512\n",
    "FFN_H_SIZE = 2048\n",
    "N_LAYERS = 6\n",
    "NUM_HEADS = 8\n",
    "DROPOUT_RATE = 0.2\n",
    "N_EPOCH = 60\n",
    "PAD_ID = 0\n",
    "TRAIN_SET_PROP = 0.8\n",
    "\n",
    "from torch.utils import data\n",
    "from data_load import load_data, load_cn_vocab, load_en_vocab\n",
    "from data_my_Transformer import en2cn_dataset\n",
    "import os, sys\n",
    "import numpy as np\n",
    "# os.environ['CUDA_VISIBLE_DEVICES'] = 1\n",
    "\n",
    "cn2idx, idx2cn = load_cn_vocab()\n",
    "en2idx, idx2en = load_en_vocab()\n",
    "X_train, Y_train, _, _ = load_data('train') # X:cn, Y:en | [seq_num, emb_size_after_padding]\n",
    "dataset = en2cn_dataset(X_train, Y_train)\n",
    "train_size = int(len(dataset) * TRAIN_SET_PROP)\n",
    "test_size = len(dataset) - train_size\n",
    "train_dataset, test_dataset = data.random_split(dataset, [train_size, test_size])\n",
    "train_data_loader = data.DataLoader(train_dataset, BATCH_SIZE, shuffle=True)\n",
    "test_data_loader = data.DataLoader(test_dataset, BATCH_SIZE, shuffle=True)\n",
    "\n",
    "model = MyTransformer(NUM_HEADS, NUM_HIDDENS, FFN_H_SIZE, DROPOUT_RATE,\n",
    "                      N_LAYERS, N_LAYERS, len(en2idx), len(cn2idx), PAD_ID).cuda()\n",
    "optimizer = torch.optim.Adam(model.parameters(), LR)\n",
    "\n",
    "for epoch_i in range(N_EPOCH):\n",
    "    for data_batch in train_data_loader:\n",
    "        en_batch, cn_batch = data_batch\n",
    "        cn_hat = model(en_batch, cn_batch, )\n",
    "        \n",
    "\n"
   ]
  }
 ],
 "metadata": {
  "kernelspec": {
   "display_name": "d2l",
   "language": "python",
   "name": "python3"
  },
  "language_info": {
   "codemirror_mode": {
    "name": "ipython",
    "version": 3
   },
   "file_extension": ".py",
   "mimetype": "text/x-python",
   "name": "python",
   "nbconvert_exporter": "python",
   "pygments_lexer": "ipython3",
   "version": "3.9.16"
  },
  "orig_nbformat": 4
 },
 "nbformat": 4,
 "nbformat_minor": 2
}
